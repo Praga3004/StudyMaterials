{
 "cells": [
  {
   "cell_type": "markdown",
   "id": "80e17f88",
   "metadata": {},
   "source": [
    "# Understanding PyTorch `nn.Conv2d`\n",
    "\n",
    "PyTorch’s `nn.Conv2d` is a core layer for building **convolutional neural networks (CNNs)**. It applies a set of **learnable filters (kernels)** to 2D input data, typically images, to extract spatial features like edges, textures, and patterns.\n",
    "\n",
    "\n",
    "---\n",
    "\n",
    "## What Is a Convolutional Layer?\n",
    "\n",
    "A convolutional layer scans small filters across the input image and computes **dot products** between the filter and parts of the input, producing a **feature map** (also called an activation map).\n",
    "\n",
    "```python\n",
    "nn.Conv2d(in_channels, out_channels, kernel_size)"
   ]
  },
  {
   "cell_type": "markdown",
   "id": "664a0fbb",
   "metadata": {},
   "source": []
  }
 ],
 "metadata": {
  "language_info": {
   "name": "python"
  }
 },
 "nbformat": 4,
 "nbformat_minor": 5
}
